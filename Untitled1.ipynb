{
 "cells": [
  {
   "cell_type": "code",
   "execution_count": null,
   "id": "d6ae5600-1d67-428d-b84e-18ef52896633",
   "metadata": {},
   "outputs": [],
   "source": [
    "import pandas as pd\n",
    "data = pd.read_excel('QSR_DS.xlsx')\n",
    "print(data.head())"
   ]
  },
  {
   "cell_type": "code",
   "execution_count": null,
   "id": "8ca78ad7-33bf-4508-bc6b-75e3df96fc4f",
   "metadata": {},
   "outputs": [],
   "source": [
    "# Check for missing values\n",
    "print(data.isnull().sum())\n",
    "\n",
    "# Percentage of missing values\n",
    "missing_percentage = data.isnull().mean() * 100\n",
    "print(missing_percentage)\n"
   ]
  },
  {
   "cell_type": "code",
   "execution_count": null,
   "id": "1ed41cb9-855d-4e2a-8175-d88a48d09a07",
   "metadata": {},
   "outputs": [],
   "source": [
    "print(data.columns)\n"
   ]
  },
  {
   "cell_type": "code",
   "execution_count": null,
   "id": "ae61c009-c06c-4e78-95b5-ec5f08b95255",
   "metadata": {},
   "outputs": [],
   "source": [
    "data = pd.read_excel('your_file.xlsx', header=1)  # Adjust the header row (e.g., 1, 2, etc.) based on your file\n",
    "print(data.columns)\n"
   ]
  },
  {
   "cell_type": "code",
   "execution_count": null,
   "id": "b6f77b60-bbdb-4aba-969c-841289f98fe4",
   "metadata": {},
   "outputs": [],
   "source": []
  }
 ],
 "metadata": {
  "kernelspec": {
   "display_name": "Python 3 (ipykernel)",
   "language": "python",
   "name": "python3"
  },
  "language_info": {
   "codemirror_mode": {
    "name": "ipython",
    "version": 3
   },
   "file_extension": ".py",
   "mimetype": "text/x-python",
   "name": "python",
   "nbconvert_exporter": "python",
   "pygments_lexer": "ipython3",
   "version": "3.12.7"
  }
 },
 "nbformat": 4,
 "nbformat_minor": 5
}
